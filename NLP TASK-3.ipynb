{
 "cells": [
  {
   "cell_type": "code",
   "execution_count": 1,
   "id": "0af55283",
   "metadata": {},
   "outputs": [],
   "source": [
    "from urllib import request \n"
   ]
  },
  {
   "cell_type": "code",
   "execution_count": 2,
   "id": "e52dd91b",
   "metadata": {},
   "outputs": [],
   "source": [
    "url = 'https://gutenberg.org/files/98/98-0.txt'\n"
   ]
  },
  {
   "cell_type": "code",
   "execution_count": 3,
   "id": "08a33482",
   "metadata": {},
   "outputs": [],
   "source": [
    "response = request.urlopen(url)\n"
   ]
  },
  {
   "cell_type": "code",
   "execution_count": 4,
   "id": "a60ab5ee",
   "metadata": {},
   "outputs": [],
   "source": [
    "raw = response.read().decode('utf8')\n"
   ]
  },
  {
   "cell_type": "code",
   "execution_count": 5,
   "id": "22dadf5c",
   "metadata": {},
   "outputs": [],
   "source": [
    "import nltk\n",
    "from nltk.tokenize import word_tokenize\n",
    "tokens = word_tokenize(raw)"
   ]
  },
  {
   "cell_type": "code",
   "execution_count": 6,
   "id": "af139783",
   "metadata": {},
   "outputs": [
    {
     "name": "stdout",
     "output_type": "stream",
     "text": [
      "['\\ufeffThe', 'Project', 'Gutenberg', 'eBook', 'of', 'A', 'Tale', 'of', 'Two', 'Cities', ',', 'by', 'Charles', 'Dickens', 'This', 'eBook', 'is', 'for', 'the', 'use', 'of', 'anyone', 'anywhere', 'in', 'the', 'United', 'States', 'and', 'most', 'other', 'parts', 'of', 'the', 'world', 'at', 'no', 'cost', 'and', 'with', 'almost', 'no', 'restrictions', 'whatsoever', '.', 'You', 'may', 'copy', 'it', ',', 'give', 'it', 'away', 'or', 're-use', 'it', 'under', 'the', 'terms', 'of', 'the', 'Project', 'Gutenberg', 'License', 'included', 'with', 'this', 'eBook', 'or', 'online', 'at', 'www.gutenberg.org', '.', 'If', 'you', 'are', 'not', 'located', 'in', 'the', 'United', 'States', ',', 'you', 'will', 'have', 'to', 'check', 'the', 'laws', 'of', 'the', 'country', 'where', 'you', 'are', 'located', 'before', 'using', 'this', 'eBook', '.', 'Title', ':', 'A', 'Tale', 'of', 'Two', 'Cities', 'A', 'Story', 'of', 'the', 'French', 'Revolution', 'Author', ':', 'Charles', 'Dickens', 'Release', 'Date', ':', 'January', ',', '1994', '[', 'eBook', '#', '98', ']', '[', 'Most', 'recently', 'updated', ':', 'December', '20', ',', '2020', ']', 'Language', ':', 'English', 'Character', 'set', 'encoding', ':', 'UTF-8', 'Produced', 'by', ':', 'Judith', 'Boss', 'and', 'David', 'Widger', '*', '*', '*', 'START', 'OF', 'THE', 'PROJECT', 'GUTENBERG', 'EBOOK', 'A', 'TALE', 'OF', 'TWO', 'CITIES', '*', '*', '*', 'A', 'TALE', 'OF', 'TWO', 'CITIES', 'A', 'STORY', 'OF', 'THE', 'FRENCH', 'REVOLUTION', 'By', 'Charles', 'Dickens', 'CONTENTS', 'Book', 'the', 'First', '--', 'Recalled', 'to', 'Life', 'CHAPTER', 'I', 'The', 'Period', 'CHAPTER', 'II']\n"
     ]
    }
   ],
   "source": [
    "print(tokens[:200])\n"
   ]
  },
  {
   "cell_type": "code",
   "execution_count": 7,
   "id": "529f252f",
   "metadata": {},
   "outputs": [],
   "source": [
    "import nltk\n",
    "from nltk.stem import PorterStemmer"
   ]
  },
  {
   "cell_type": "code",
   "execution_count": 8,
   "id": "e07ff18e",
   "metadata": {},
   "outputs": [
    {
     "data": {
      "text/plain": [
       "'happi'"
      ]
     },
     "execution_count": 8,
     "metadata": {},
     "output_type": "execute_result"
    }
   ],
   "source": [
    "porter = PorterStemmer()\n",
    "porter.stem('Happiness')"
   ]
  },
  {
   "cell_type": "code",
   "execution_count": 9,
   "id": "d9f6e043",
   "metadata": {},
   "outputs": [],
   "source": [
    "from nltk.stem import LancasterStemmer\n"
   ]
  },
  {
   "cell_type": "code",
   "execution_count": 10,
   "id": "49543ee7",
   "metadata": {},
   "outputs": [
    {
     "data": {
      "text/plain": [
       "'happy'"
      ]
     },
     "execution_count": 10,
     "metadata": {},
     "output_type": "execute_result"
    }
   ],
   "source": [
    "lan = LancasterStemmer()\n",
    "lan.stem('Happiness')"
   ]
  },
  {
   "cell_type": "code",
   "execution_count": 11,
   "id": "849d1173",
   "metadata": {},
   "outputs": [],
   "source": [
    "from nltk.stem import RegexpStemmer\n"
   ]
  },
  {
   "cell_type": "code",
   "execution_count": 12,
   "id": "b31ca808",
   "metadata": {},
   "outputs": [
    {
     "data": {
      "text/plain": [
       "'study'"
      ]
     },
     "execution_count": 12,
     "metadata": {},
     "output_type": "execute_result"
    }
   ],
   "source": [
    "reg = RegexpStemmer('ing')\n",
    "reg.stem('studying')"
   ]
  },
  {
   "cell_type": "code",
   "execution_count": 13,
   "id": "0da347f7",
   "metadata": {},
   "outputs": [
    {
     "data": {
      "text/plain": [
       "'sing'"
      ]
     },
     "execution_count": 13,
     "metadata": {},
     "output_type": "execute_result"
    }
   ],
   "source": [
    "reg = RegexpStemmer('ing$')\n",
    "reg.stem('singing')"
   ]
  },
  {
   "cell_type": "code",
   "execution_count": 14,
   "id": "228aeae0",
   "metadata": {},
   "outputs": [],
   "source": [
    "from nltk.stem import SnowballStemmer\n"
   ]
  },
  {
   "cell_type": "code",
   "execution_count": 15,
   "id": "35d461a9",
   "metadata": {},
   "outputs": [
    {
     "data": {
      "text/plain": [
       "'verbind'"
      ]
     },
     "execution_count": 15,
     "metadata": {},
     "output_type": "execute_result"
    }
   ],
   "source": [
    "snow = SnowballStemmer('german')\n",
    "snow.stem('Verbindung')\n"
   ]
  },
  {
   "cell_type": "code",
   "execution_count": 16,
   "id": "97ddd9f1",
   "metadata": {},
   "outputs": [],
   "source": [
    "sentence = 'A stemmer for English operating on the stem cat should identify such strings as cats, catlike, and catty. A stemming algorithm might also reduce the words fishing, fished, and fisher to the stem fish. The stem need not be a word, for example the Porter algorithm reduces, argue, argued, argues, arguing, and argus to the stem argu.'\n"
   ]
  },
  {
   "cell_type": "code",
   "execution_count": 17,
   "id": "3685fdd3",
   "metadata": {},
   "outputs": [
    {
     "data": {
      "text/plain": [
       "'A stemmer for English operating on the stem cat should identify such strings as cats, catlike, and catty. A stemming algorithm might also reduce the words fishing, fished, and fisher to the stem fish. The stem need not be a word, for example the Porter algorithm reduces, argue, argued, argues, arguing, and argus to the stem argu.'"
      ]
     },
     "execution_count": 17,
     "metadata": {},
     "output_type": "execute_result"
    }
   ],
   "source": [
    "sentence\n"
   ]
  },
  {
   "cell_type": "code",
   "execution_count": 18,
   "id": "868974aa",
   "metadata": {},
   "outputs": [],
   "source": [
    "sentence_list = sentence.split()\n"
   ]
  },
  {
   "cell_type": "code",
   "execution_count": 19,
   "id": "0e759e96",
   "metadata": {},
   "outputs": [
    {
     "data": {
      "text/plain": [
       "['A',\n",
       " 'stemmer',\n",
       " 'for',\n",
       " 'English',\n",
       " 'operating',\n",
       " 'on',\n",
       " 'the',\n",
       " 'stem',\n",
       " 'cat',\n",
       " 'should',\n",
       " 'identify',\n",
       " 'such',\n",
       " 'strings',\n",
       " 'as',\n",
       " 'cats,',\n",
       " 'catlike,',\n",
       " 'and',\n",
       " 'catty.',\n",
       " 'A',\n",
       " 'stemming',\n",
       " 'algorithm',\n",
       " 'might',\n",
       " 'also',\n",
       " 'reduce',\n",
       " 'the',\n",
       " 'words',\n",
       " 'fishing,',\n",
       " 'fished,',\n",
       " 'and',\n",
       " 'fisher',\n",
       " 'to',\n",
       " 'the',\n",
       " 'stem',\n",
       " 'fish.',\n",
       " 'The',\n",
       " 'stem',\n",
       " 'need',\n",
       " 'not',\n",
       " 'be',\n",
       " 'a',\n",
       " 'word,',\n",
       " 'for',\n",
       " 'example',\n",
       " 'the',\n",
       " 'Porter',\n",
       " 'algorithm',\n",
       " 'reduces,',\n",
       " 'argue,',\n",
       " 'argued,',\n",
       " 'argues,',\n",
       " 'arguing,',\n",
       " 'and',\n",
       " 'argus',\n",
       " 'to',\n",
       " 'the',\n",
       " 'stem',\n",
       " 'argu.']"
      ]
     },
     "execution_count": 19,
     "metadata": {},
     "output_type": "execute_result"
    }
   ],
   "source": [
    "sentence_list\n"
   ]
  },
  {
   "cell_type": "code",
   "execution_count": 20,
   "id": "54089664",
   "metadata": {
    "scrolled": true
   },
   "outputs": [
    {
     "name": "stdout",
     "output_type": "stream",
     "text": [
      "A               -> a\n",
      "stemmer         -> stemmer\n",
      "for             -> for\n",
      "English         -> english\n",
      "operating       -> oper\n",
      "on              -> on\n",
      "the             -> the\n",
      "stem            -> stem\n",
      "cat             -> cat\n",
      "should          -> should\n",
      "identify        -> identifi\n",
      "such            -> such\n",
      "strings         -> string\n",
      "as              -> as\n",
      "cats,           -> cats,\n",
      "catlike,        -> catlike,\n",
      "and             -> and\n",
      "catty.          -> catty.\n",
      "A               -> a\n",
      "stemming        -> stem\n",
      "algorithm       -> algorithm\n",
      "might           -> might\n",
      "also            -> also\n",
      "reduce          -> reduc\n",
      "the             -> the\n",
      "words           -> word\n",
      "fishing,        -> fishing,\n",
      "fished,         -> fished,\n",
      "and             -> and\n",
      "fisher          -> fisher\n",
      "to              -> to\n",
      "the             -> the\n",
      "stem            -> stem\n",
      "fish.           -> fish.\n",
      "The             -> the\n",
      "stem            -> stem\n",
      "need            -> need\n",
      "not             -> not\n",
      "be              -> be\n",
      "a               -> a\n",
      "word,           -> word,\n",
      "for             -> for\n",
      "example         -> exampl\n",
      "the             -> the\n",
      "Porter          -> porter\n",
      "algorithm       -> algorithm\n",
      "reduces,        -> reduces,\n",
      "argue,          -> argue,\n",
      "argued,         -> argued,\n",
      "argues,         -> argues,\n",
      "arguing,        -> arguing,\n",
      "and             -> and\n",
      "argus           -> argu\n",
      "to              -> to\n",
      "the             -> the\n",
      "stem            -> stem\n",
      "argu.           -> argu.\n"
     ]
    }
   ],
   "source": [
    "for word in sentence_list:\n",
    "    print(f'{word} \\t -> {porter.stem(word)}'.expandtabs(15))"
   ]
  },
  {
   "cell_type": "code",
   "execution_count": 21,
   "id": "0bd9f441",
   "metadata": {},
   "outputs": [
    {
     "name": "stderr",
     "output_type": "stream",
     "text": [
      "[nltk_data] Downloading package wordnet to\n",
      "[nltk_data]     /Users/prakhargarg/nltk_data...\n",
      "[nltk_data]   Package wordnet is already up-to-date!\n"
     ]
    }
   ],
   "source": [
    "nltk.download('wordnet')\n",
    "from nltk.stem import WordNetLemmatizer\n"
   ]
  },
  {
   "cell_type": "code",
   "execution_count": 30,
   "id": "86cd5783",
   "metadata": {},
   "outputs": [],
   "source": [
    "sentence = 'A stemmer for English operating on the stem cat should identify such strings as cats, catlike, and catty. A stemming algorithm might also reduce the words fishing, fished, and fisher to the stem fish. The stem need not be a word, for example the Porter algorithm reduces, argue, argued, argues, arguing, and argus to the stem argu.'\n"
   ]
  },
  {
   "cell_type": "code",
   "execution_count": null,
   "id": "5171565d",
   "metadata": {},
   "outputs": [],
   "source": [
    "lemmatizer = WordNetLemmatizer()\n",
    "lemmatized_words = [lemmatizer.lemmatize(word) for word in words]"
   ]
  },
  {
   "cell_type": "markdown",
   "id": "863bf903",
   "metadata": {},
   "source": [
    "['A', 'stemmer', 'for', 'English', 'operating', 'on', 'the', 'stem', 'cat', 'should', 'identify', 'such', 'string', 'a', 'cat', ',', 'catlike', ',', 'and', 'catty', '.', 'A', 'stemming', 'algorithm', 'might', 'also', 'reduce', 'the', 'word', 'fishing', ',', 'fished', ',', 'and', 'fisher', 'to', 'the', 'stem', 'fish', '.', 'The', 'stem', 'need', 'not', 'be', 'a', 'word', ',', 'for', 'example', 'the', 'Porter', 'algorithm', 'reduces', ',', 'argue', ',', 'argued', ',', 'argues', ',', 'arguing', ',', 'and', 'argus', 'to', 'the', 'stem', 'argu', '.']"
   ]
  },
  {
   "cell_type": "code",
   "execution_count": 33,
   "id": "f490f4b7",
   "metadata": {},
   "outputs": [
    {
     "name": "stdout",
     "output_type": "stream",
     "text": [
      "cactus\n",
      "be\n",
      "good\n"
     ]
    }
   ],
   "source": [
    "print(lemmatizer.lemmatize('cacti'))\n",
    "print(lemmatizer.lemmatize('am', pos = 'v'))\n",
    "print(lemmatizer.lemmatize('better', pos = 'a'))"
   ]
  },
  {
   "cell_type": "code",
   "execution_count": null,
   "id": "b8b71dc4",
   "metadata": {},
   "outputs": [],
   "source": [
    "import nltk\n",
    "nltk.download('averaged_perceptron_tagger')\n",
    "\n",
    "sentence = 'A stemmer for English operating on the stem cat should identify such strings as cats, catlike, and catty. A stemming algorithm might also reduce the words fishing, fished, and fisher to the stem fish. The stem need not be a word, for example the Porter algorithm reduces, argue, argued, argues, arguing, and argus to the stem argu.'\n",
    "tagged_words = nltk.pos_tag(words)\n",
    "\n",
    "print(tagged_words)"
   ]
  },
  {
   "cell_type": "markdown",
   "id": "fa78a689",
   "metadata": {},
   "source": [
    "[('A', 'DT'), ('stemmer', 'NN'), ('for', 'IN'), ('English', 'NNP'), ('operating', 'VBG'), ('on', 'IN'), ('the', 'DT'), ('stem', 'NN'), ('cat', 'NN'), ('should', 'MD'), ('identify', 'VB'), ('such', 'JJ'), ('strings', 'NNS'), ('as', 'IN'), ('cats', 'NNS'), (',', ','), ('catlike', 'NN'), (',', ','), ('and', 'CC'), ('catty', 'RB'), ('.', '.'), ('A', 'DT'), ('stemming', 'VBG'), ('algorithm', 'NN'), ('might', 'MD'), ('also', 'RB'), ('reduce', 'VB'), ('the', 'DT'), ('words', 'NNS'), ('fishing', 'NN'), (',', ','), ('fished', 'VBN'), (',', ','), ('and', 'CC'), ('fisher', 'RB'), ('to', 'TO'), ('the', 'DT'), ('stem', 'NN'), ('fish', 'NN'), ('.', '.'), ('The', 'DT'), ('stem', 'NN'), ('need', 'MD'), ('not', 'RB'), ('be', 'VB'), ('a', 'DT'), ('word', 'NN'), (',', ','), ('for', 'IN'), ('example', 'NN'), ('the', 'DT'), ('Porter', 'NNP'), ('algorithm', 'NN'), ('reduces', 'NNS'), (',', ','), ('argue', 'NN'), (',', ','), ('argued', 'VBD'), (',', ','), ('argues', 'NNS'), (',', ','), ('arguing', 'VBG'), (',', ','), ('and', 'CC'), ('argus', 'NN'), ('to', 'TO'), ('the', 'DT'), ('stem', 'NN'), ('argu', 'NN'), ('.', '.')]\n",
    "[nltk_data] Downloading package averaged_perceptron_tagger to\n",
    "[nltk_data]     C:\\Users\\veerg\\AppData\\Roaming\\nltk_data...\n",
    "[nltk_data]   Package averaged_perceptron_tagger is already up-to-\n",
    "[nltk_data]       date!\n"
   ]
  },
  {
   "cell_type": "code",
   "execution_count": null,
   "id": "b700f989",
   "metadata": {},
   "outputs": [],
   "source": []
  }
 ],
 "metadata": {
  "kernelspec": {
   "display_name": "Python 3 (ipykernel)",
   "language": "python",
   "name": "python3"
  },
  "language_info": {
   "codemirror_mode": {
    "name": "ipython",
    "version": 3
   },
   "file_extension": ".py",
   "mimetype": "text/x-python",
   "name": "python",
   "nbconvert_exporter": "python",
   "pygments_lexer": "ipython3",
   "version": "3.9.13"
  }
 },
 "nbformat": 4,
 "nbformat_minor": 5
}
