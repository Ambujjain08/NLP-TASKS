{
 "cells": [
  {
   "cell_type": "code",
   "execution_count": 2,
   "id": "3760fec2",
   "metadata": {},
   "outputs": [],
   "source": [
    "from sklearn.feature_extraction.text import CountVectorizer"
   ]
  },
  {
   "cell_type": "code",
   "execution_count": 3,
   "id": "fa824cca",
   "metadata": {},
   "outputs": [],
   "source": [
    "vect= CountVectorizer(binary=True)\n",
    "#corpus with three documents\n",
    "corpus = [\"NLP is awesome\",\"I want to start an NLP Company\",\"Top unicorns are NLP Techniques\"]"
   ]
  },
  {
   "cell_type": "code",
   "execution_count": 4,
   "id": "180ddfbb",
   "metadata": {},
   "outputs": [
    {
     "data": {
      "text/plain": [
       "CountVectorizer(binary=True)"
      ]
     },
     "execution_count": 4,
     "metadata": {},
     "output_type": "execute_result"
    }
   ],
   "source": [
    "vect.fit(corpus)"
   ]
  },
  {
   "cell_type": "code",
   "execution_count": 5,
   "id": "265a0c9d",
   "metadata": {},
   "outputs": [],
   "source": [
    "#List of unique terms present in the corpus\n",
    "vocab =vect.vocabulary_"
   ]
  },
  {
   "cell_type": "code",
   "execution_count": 6,
   "id": "3626a7f5",
   "metadata": {
    "scrolled": true
   },
   "outputs": [
    {
     "data": {
      "text/plain": [
       "{'nlp': 5,\n",
       " 'is': 4,\n",
       " 'awesome': 2,\n",
       " 'want': 11,\n",
       " 'to': 8,\n",
       " 'start': 6,\n",
       " 'an': 0,\n",
       " 'company': 3,\n",
       " 'top': 9,\n",
       " 'unicorns': 10,\n",
       " 'are': 1,\n",
       " 'techniques': 7}"
      ]
     },
     "execution_count": 6,
     "metadata": {},
     "output_type": "execute_result"
    }
   ],
   "source": [
    "vocab"
   ]
  },
  {
   "cell_type": "code",
   "execution_count": 7,
   "id": "9162e92c",
   "metadata": {
    "scrolled": true
   },
   "outputs": [
    {
     "data": {
      "text/plain": [
       "array([[0, 0, 1, 0, 1, 1, 0, 0, 0, 0, 0, 0],\n",
       "       [1, 0, 0, 1, 0, 1, 1, 0, 1, 0, 0, 1],\n",
       "       [0, 0, 0, 0, 0, 1, 0, 1, 0, 1, 1, 0]])"
      ]
     },
     "execution_count": 7,
     "metadata": {},
     "output_type": "execute_result"
    }
   ],
   "source": [
    "vect.transform([\"NLP is awesome\",\"I want to start an NLP company\",\"Top unicorns use NLP techniques\"]).toarray()"
   ]
  },
  {
   "cell_type": "code",
   "execution_count": 10,
   "id": "6a7495cf",
   "metadata": {},
   "outputs": [],
   "source": [
    "import numpy as np\n",
    "from sklearn.feature_extraction.text import TfidfVectorizer\n",
    "\n",
    "def cosine_similarity_text(texts):\n",
    "    \"\"\"\n",
    "    Calculates the cosine similarity between all pairs of texts in a list.\n",
    "    \"\"\"\n",
    "    # create TfidfVectorizer object\n",
    "    vectorizer = TfidfVectorizer()\n",
    "\n",
    "    # create sparse matrix of text vectors\n",
    "    text_vectors = vectorizer.fit_transform(texts)\n",
    "\n",
    "    # convert sparse matrix to dense matrix\n",
    "    dense_vectors = text_vectors.todense()\n",
    "\n",
    "    # calculate cosine similarity\n",
    "    cos_sim = np.dot(dense_vectors, dense_vectors.T)\n",
    "\n",
    "    return cos_sim"
   ]
  },
  {
   "cell_type": "code",
   "execution_count": 11,
   "id": "b43c43c3",
   "metadata": {},
   "outputs": [
    {
     "name": "stdout",
     "output_type": "stream",
     "text": [
      "[[1.         0.09841374 0.10914377]\n",
      " [0.09841374 1.         0.07232613]\n",
      " [0.10914377 0.07232613 1.        ]]\n"
     ]
    }
   ],
   "source": [
    "cos_sim = cosine_similarity_text(corpus)\n",
    "\n",
    "print(cos_sim)"
   ]
  },
  {
   "cell_type": "code",
   "execution_count": 8,
   "id": "bd073fa9",
   "metadata": {},
   "outputs": [],
   "source": [
    "from sklearn.metrics.pairwise import cosine_similarity\n",
    "similarity = cosine_similarity((vect.transform([\"ML is an elective subject\"]).toarray()),vect.transform([\"Airbnb is an NLP company\"]).toarray())"
   ]
  },
  {
   "cell_type": "code",
   "execution_count": 9,
   "id": "106d805e",
   "metadata": {},
   "outputs": [
    {
     "data": {
      "text/plain": [
       "array([[0.70710678]])"
      ]
     },
     "execution_count": 9,
     "metadata": {},
     "output_type": "execute_result"
    }
   ],
   "source": [
    "similarity"
   ]
  },
  {
   "cell_type": "code",
   "execution_count": null,
   "id": "e3f63b80",
   "metadata": {},
   "outputs": [],
   "source": []
  }
 ],
 "metadata": {
  "kernelspec": {
   "display_name": "Python 3 (ipykernel)",
   "language": "python",
   "name": "python3"
  },
  "language_info": {
   "codemirror_mode": {
    "name": "ipython",
    "version": 3
   },
   "file_extension": ".py",
   "mimetype": "text/x-python",
   "name": "python",
   "nbconvert_exporter": "python",
   "pygments_lexer": "ipython3",
   "version": "3.9.13"
  }
 },
 "nbformat": 4,
 "nbformat_minor": 5
}
